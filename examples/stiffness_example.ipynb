{
 "cells": [
  {
   "cell_type": "markdown",
   "metadata": {},
   "source": [
    "### Example creating the stiffness for a linear elasticity element using tensors or matrices"
   ]
  },
  {
   "cell_type": "code",
   "execution_count": 1,
   "metadata": {
    "collapsed": false
   },
   "outputs": [],
   "source": [
    "using JuAFEM\n",
    "using Devectorize"
   ]
  },
  {
   "cell_type": "code",
   "execution_count": 2,
   "metadata": {
    "collapsed": false
   },
   "outputs": [],
   "source": [
    "E = 200e9\n",
    "ν = 0.3\n",
    "λ = E*ν / ((1+ν) * (1 - 2ν))\n",
    "μ = E / (2(1+ν))\n",
    "δ(i,j) = i == j ? 1.0 : 0.0\n",
    "g(i,j,k,l) = λ*δ(i,j)*δ(k,l) + μ*(δ(i,k)*δ(j,l) + δ(i,l)*δ(j,k))\n",
    "\n",
    "# Create a random symmetric material stiffness\n",
    "C = rand(SymmetricTensor{4, 2})\n",
    "\n",
    "Ee = [C[1,1,1,1] C[1,1,2,2] C[1,1,1,2];\n",
    "      C[2,2,1,1] C[2,2,2,2] C[2,2,1,2];\n",
    "      C[1,2,1,1] C[1,2,2,2] C[1,2,1,2]];"
   ]
  },
  {
   "cell_type": "code",
   "execution_count": 5,
   "metadata": {
    "collapsed": false,
    "scrolled": true
   },
   "outputs": [],
   "source": [
    "function_space = Lagrange{2, JuAFEM.RefCube, 1}()\n",
    "quad_rule = GaussQuadrature(Dim{2}, JuAFEM.RefCube(), 2)\n",
    "fe_values = FEValues(Float64, quad_rule, function_space);\n",
    "\n",
    "x = [0. 1 1 0;\n",
    "     0 0 1 1]\n",
    "x_vec = reinterpret(Vec{2, Float64}, x, (4,));"
   ]
  },
  {
   "cell_type": "markdown",
   "metadata": {},
   "source": [
    "## Stiffness"
   ]
  },
  {
   "cell_type": "code",
   "execution_count": 6,
   "metadata": {
    "collapsed": false
   },
   "outputs": [
    {
     "data": {
      "text/plain": [
       "ke_element_mat! (generic function with 1 method)"
      ]
     },
     "execution_count": 6,
     "metadata": {},
     "output_type": "execute_result"
    }
   ],
   "source": [
    "function ke_element_mat!{T,dim}(Ke, X::Vector{Vec{2, T}}, fe_values::FEValues{dim}, Ee, B, DB, BDB)\n",
    "    n_basefuncs = n_basefunctions(get_functionspace(fe_values))\n",
    "    @assert length(X) == n_basefuncs\n",
    "    \n",
    "    reinit!(fe_values, X)\n",
    "\n",
    "    for q_point in 1:length(JuAFEM.points(get_quadrule(fe_values)))\n",
    "        \n",
    "        for i in 1:n_basefuncs\n",
    "            dNdx = shape_gradient(fe_values, q_point, i)[1]\n",
    "            dNdy = shape_gradient(fe_values, q_point, i)[2]\n",
    "            B[1, 2*i - 1] = dNdx\n",
    "            B[2, 2*i - 0] = dNdy\n",
    "            B[3, 2*i - 0] = dNdx\n",
    "            B[3, 2*i - 1] = dNdy\n",
    "        end\n",
    "        \n",
    "        A_mul_B!(DB, Ee, B)\n",
    "        At_mul_B!(BDB, B, DB)\n",
    "        scale!(BDB, detJdV(fe_values, q_point))\n",
    "        for p in 1:size(Ke,1)\n",
    "            for q in 1:size(Ke,2)\n",
    "                Ke[p, q] += BDB[p, q]\n",
    "            end\n",
    "        end\n",
    "    end\n",
    "    \n",
    "    return Ke\n",
    "end"
   ]
  },
  {
   "cell_type": "code",
   "execution_count": 7,
   "metadata": {
    "collapsed": false
   },
   "outputs": [
    {
     "data": {
      "text/plain": [
       "ke_element! (generic function with 1 method)"
      ]
     },
     "execution_count": 7,
     "metadata": {},
     "output_type": "execute_result"
    }
   ],
   "source": [
    "function ke_element!{T,dim}(Ke, X::Vector{Vec{2, T}}, fe_values::FEValues{dim}, D)\n",
    "    n_basefuncs = n_basefunctions(get_functionspace(fe_values))\n",
    "    @assert length(X) == n_basefuncs\n",
    "    reinit!(fe_values, X)\n",
    "    @inbounds for q_point in 1:length(JuAFEM.points(get_quadrule(fe_values)))\n",
    "        for a in 1:n_basefuncs\n",
    "            for b in 1:n_basefuncs\n",
    "                ∇ϕa = shape_gradient(fe_values, q_point, a)\n",
    "                ∇ϕb = shape_gradient(fe_values, q_point, b)\n",
    "                # TODO: This would be faster as ∇ϕa ⋅ C ⋅ ∇ϕb\n",
    "                Ke_e = C2 ⊡ (∇ϕb ⊗ ∇ϕa) * detJdV(fe_values, q_point)\n",
    "                for d1 in 1:dim, d2 in 1:dim\n",
    "                    Ke[dim*(a-1) + d1, dim*(b-1) + d2] += Ke_e[d1,d2]\n",
    "                end\n",
    "            end\n",
    "        end\n",
    "    end\n",
    "    return Ke\n",
    "end"
   ]
  },
  {
   "cell_type": "code",
   "execution_count": 8,
   "metadata": {
    "collapsed": false
   },
   "outputs": [
    {
     "name": "stdout",
     "output_type": "stream",
     "text": [
      "  "
     ]
    },
    {
     "data": {
      "text/plain": [
       "8x8 Array{Float64,2}:\n",
       "  0.732447    0.729767   -0.134838   …  -0.534914   -0.0364283  -0.132157 \n",
       "  0.634895    0.632506   -0.157508      -0.432336   -0.0623614  -0.155119 \n",
       " -0.126301   -0.318895   -0.0473833      0.124042    0.218649    0.14521  \n",
       " -0.19112     0.0214643   0.244582      -0.221634   -0.024713    0.031998 \n",
       " -0.561181   -0.534914   -0.0364283      0.729767   -0.134838   -0.0626947\n",
       " -0.415026   -0.432336   -0.0623614  …   0.632506   -0.157508   -0.0450506\n",
       " -0.0449647   0.124042    0.218649      -0.318895   -0.0473833   0.0496421\n",
       " -0.0287493  -0.221634   -0.024713       0.0214643   0.244582    0.168171 "
      ]
     },
     "execution_count": 8,
     "metadata": {},
     "output_type": "execute_result"
    }
   ],
   "source": [
    "x = [0. 1 1 0;\n",
    "     0 0 1 1]\n",
    "x_vec = reinterpret(Vec{2, Float64}, x, (4,))\n",
    "Ke2 = zeros(8,8)\n",
    "# Note the transpose\n",
    "C2 = Tensor{4, 2}((i,j,k,l) -> C[i,l,k,j])\n",
    "@time ke_element!(Ke2, x_vec, fe_values, C2)"
   ]
  },
  {
   "cell_type": "code",
   "execution_count": 9,
   "metadata": {
    "collapsed": false
   },
   "outputs": [
    {
     "data": {
      "text/plain": [
       "8x8 Array{Float64,2}:\n",
       "  0.732447    0.729767   -0.134838   …  -0.534914   -0.0364283  -0.132157 \n",
       "  0.634895    0.632506   -0.157508      -0.432336   -0.0623614  -0.155119 \n",
       " -0.126301   -0.318895   -0.0473833      0.124042    0.218649    0.14521  \n",
       " -0.19112     0.0214643   0.244582      -0.221634   -0.024713    0.031998 \n",
       " -0.561181   -0.534914   -0.0364283      0.729767   -0.134838   -0.0626947\n",
       " -0.415026   -0.432336   -0.0623614  …   0.632506   -0.157508   -0.0450506\n",
       " -0.0449647   0.124042    0.218649      -0.318895   -0.0473833   0.0496421\n",
       " -0.0287493  -0.221634   -0.024713       0.0214643   0.244582    0.168171 "
      ]
     },
     "execution_count": 9,
     "metadata": {},
     "output_type": "execute_result"
    }
   ],
   "source": [
    "B = zeros(3, 8)\n",
    "DB = zeros(3,8)\n",
    "BDB = zeros(8,8)\n",
    "Ke = zeros(8,8)\n",
    "fill!(Ke, 0.0)\n",
    "ke_element_mat!(Ke, x_vec, fe_values, Ee, B, DB, BDB)"
   ]
  },
  {
   "cell_type": "code",
   "execution_count": 10,
   "metadata": {
    "collapsed": false
   },
   "outputs": [
    {
     "data": {
      "text/plain": [
       "1.2191531139327896e-16"
      ]
     },
     "execution_count": 10,
     "metadata": {},
     "output_type": "execute_result"
    }
   ],
   "source": [
    "norm(Ke - Ke2) / norm(Ke)"
   ]
  }
 ],
 "metadata": {
  "kernelspec": {
   "display_name": "Julia 0.5.0-dev",
   "language": "julia",
   "name": "julia-0.5"
  },
  "language_info": {
   "file_extension": ".jl",
   "mimetype": "application/julia",
   "name": "julia",
   "version": "0.5.0"
  }
 },
 "nbformat": 4,
 "nbformat_minor": 0
}
