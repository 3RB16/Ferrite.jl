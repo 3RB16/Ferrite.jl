{
 "cells": [
  {
   "cell_type": "markdown",
   "metadata": {},
   "source": [
    "# Example: Three spings in series"
   ]
  },
  {
   "cell_type": "code",
   "execution_count": 4,
   "metadata": {
    "collapsed": true
   },
   "outputs": [],
   "source": [
    "using JuAFEM"
   ]
  },
  {
   "cell_type": "markdown",
   "metadata": {},
   "source": [
    "## Input"
   ]
  },
  {
   "cell_type": "code",
   "execution_count": 34,
   "metadata": {
    "collapsed": false
   },
   "outputs": [
    {
     "data": {
      "text/plain": [
       "1.0"
      ]
     },
     "execution_count": 34,
     "metadata": {},
     "output_type": "execute_result"
    }
   ],
   "source": [
    "k = 1.0;                        # Spring stiffness [N/m]\n",
    "F = 1.0;                        # Load magnitude [N]"
   ]
  },
  {
   "cell_type": "markdown",
   "metadata": {},
   "source": [
    "### Element properties"
   ]
  },
  {
   "cell_type": "code",
   "execution_count": 17,
   "metadata": {
    "collapsed": false
   },
   "outputs": [
    {
     "data": {
      "text/plain": [
       "1.0"
      ]
     },
     "execution_count": 17,
     "metadata": {},
     "output_type": "execute_result"
    }
   ],
   "source": [
    "ep1 = k;                        # Stiffness for spring 1 etc.\n",
    "ep2 = 2*k;   \n",
    "ep3 = k;"
   ]
  },
  {
   "cell_type": "markdown",
   "metadata": {},
   "source": [
    "## Geometry\n",
    "\n",
    "### Element definitions - degrees of freedom (dofs)"
   ]
  },
  {
   "cell_type": "code",
   "execution_count": 33,
   "metadata": {
    "collapsed": false
   },
   "outputs": [
    {
     "data": {
      "text/plain": [
       "3x3 Array{Int32,2}:\n",
       " 1  1  2\n",
       " 2  2  3\n",
       " 3  3  4"
      ]
     },
     "execution_count": 33,
     "metadata": {},
     "output_type": "execute_result"
    }
   ],
   "source": [
    "Edof = [1  1 2                 # Element 1: node 1->2\n",
    "        2  2 3                 # Element 2: node 2->3\n",
    "        3  3 4];               # Element 3: node 3->4\n",
    " "
   ]
  },
  {
   "cell_type": "markdown",
   "metadata": {},
   "source": [
    "### Boundary conditions - bc"
   ]
  },
  {
   "cell_type": "code",
   "execution_count": 41,
   "metadata": {
    "collapsed": false
   },
   "outputs": [],
   "source": [
    "bc = [1  0                      # Degrees of freedom 1 and 3 are prescribed to zero\n",
    "      4  0];"
   ]
  },
  {
   "cell_type": "markdown",
   "metadata": {},
   "source": [
    "## Stiffness matrix and load vector"
   ]
  },
  {
   "cell_type": "code",
   "execution_count": 38,
   "metadata": {
    "collapsed": false
   },
   "outputs": [],
   "source": [
    "K = zeros(4,4);                  # Allocate space \n",
    "f = zeros(4,1);    \n",
    "\n",
    "f[3] = F;                       # Apply load in dof 2\n",
    " \n",
    "Ke1 = spring1e(ep1);            # Element stiffness matrices\n",
    "Ke2 = spring1e(ep2);\n",
    "Ke3 = spring1e(ep3);"
   ]
  },
  {
   "cell_type": "markdown",
   "metadata": {},
   "source": [
    "### Assemble element stiffnesses into global stiffness matrix"
   ]
  },
  {
   "cell_type": "code",
   "execution_count": 39,
   "metadata": {
    "collapsed": false
   },
   "outputs": [
    {
     "name": "stdout",
     "output_type": "stream",
     "text": [
      "[1.0 -1.0 0.0 0.0\n",
      " -1.0 3.0 -2.0 0.0\n",
      " 0.0 -2.0 3.0 -1.0\n",
      " 0.0 0.0 -1.0 1.0]"
     ]
    }
   ],
   "source": [
    "K = assemble(Edof[1,:], K, Ke1)\n",
    "K = assemble(Edof[2,:], K, Ke2) \n",
    "K = assemble(Edof[3,:], K, Ke3) \n",
    "print(K)"
   ]
  },
  {
   "cell_type": "markdown",
   "metadata": {},
   "source": [
    "## Solve the equation system Ka = f "
   ]
  },
  {
   "cell_type": "code",
   "execution_count": 42,
   "metadata": {
    "collapsed": false
   },
   "outputs": [
    {
     "name": "stdout",
     "output_type": "stream",
     "text": [
      "Displacement vector: a = [0.0,0.39999999999999997,0.6,0.0]\n",
      "Boundary forces:  = [-0.39999999999999997\n",
      " -5.551115123125783e-17\n",
      " 0.0\n",
      " -0.6]\n"
     ]
    }
   ],
   "source": [
    "(a, fb) = solveq(K, f, bc)      # a - vector of computed displacements\n",
    "                                # fb - vector of computed boundary forces (zero for unconstrained dofs)\n",
    "println (\"Displacement vector: a = $a\")\n",
    "println (\"Boundary forces:  = $fb\")"
   ]
  },
  {
   "cell_type": "markdown",
   "metadata": {},
   "source": [
    "## Compute sectional forces"
   ]
  },
  {
   "cell_type": "code",
   "execution_count": 21,
   "metadata": {
    "collapsed": false
   },
   "outputs": [
    {
     "name": "stdout",
     "output_type": "stream",
     "text": [
      "Sectional forces are: N1 = 0.06666666666666667, N2 = -0.13333333333333333, N3 = 0.0"
     ]
    }
   ],
   "source": [
    "el_disp = extract(Edof, a);     # Matrix contining the displacement vectors for each element \n",
    "\n",
    "\n",
    "es1 = spring1s(ep1, el_disp[1,:])        # Compute spring force in each element\n",
    "es2 = spring1s(ep2, el_disp[2,:])\n",
    "es3 = spring1s(ep2, el_disp[3,:])\n",
    "\n",
    "print (\"Sectional forces are: N1 = $es1, N2 = $es2, N3 = $es3\")"
   ]
  }
 ],
 "metadata": {
  "kernelspec": {
   "display_name": "Julia 0.3.10",
   "language": "julia",
   "name": "julia-0.3"
  },
  "language_info": {
   "name": "julia",
   "version": "0.3.10"
  }
 },
 "nbformat": 4,
 "nbformat_minor": 0
}
